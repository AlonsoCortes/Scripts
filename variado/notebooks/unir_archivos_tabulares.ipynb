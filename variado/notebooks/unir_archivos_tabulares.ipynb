{
 "cells": [
  {
   "cell_type": "code",
   "execution_count": 1,
   "metadata": {},
   "outputs": [],
   "source": [
    "# importamos librerías\n",
    "import pandas as pd\n",
    "import os\n",
    "import glob"
   ]
  },
  {
   "cell_type": "code",
   "execution_count": 3,
   "metadata": {},
   "outputs": [],
   "source": [
    "def agrupar_csv(ruta, nombre_salida):\n",
    "    archivos = glob.glob(os.path.join(ruta, \"*.csv\"))\n",
    "    lista = []\n",
    "    for archivo in archivos:\n",
    "        df = df = pd.read_csv(archivo, index_col=None, header=0)\n",
    "        df['archivo'] = archivo\n",
    "        lista.append(df)\n",
    "        \n",
    "    df = pd.concat(lista, axis=0, ignore_index=True)\n",
    "    df.to_csv(f\"{nombre_salida}.csv\")"
   ]
  },
  {
   "cell_type": "code",
   "execution_count": 10,
   "metadata": {},
   "outputs": [],
   "source": [
    "ruta = \"C:/dai/Encuesta_encontrar/monitoreo-campo/datos/03-24nov-17hrs/hogares\""
   ]
  },
  {
   "cell_type": "code",
   "execution_count": 11,
   "metadata": {},
   "outputs": [],
   "source": [
    "agrupar_csv(ruta,\"hogares_03-24nov-17hrs_agrupado\")"
   ]
  }
 ],
 "metadata": {
  "kernelspec": {
   "display_name": "gds",
   "language": "python",
   "name": "python3"
  },
  "language_info": {
   "codemirror_mode": {
    "name": "ipython",
    "version": 3
   },
   "file_extension": ".py",
   "mimetype": "text/x-python",
   "name": "python",
   "nbconvert_exporter": "python",
   "pygments_lexer": "ipython3",
   "version": "3.9.13"
  }
 },
 "nbformat": 4,
 "nbformat_minor": 2
}
